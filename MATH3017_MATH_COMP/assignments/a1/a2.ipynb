{
 "cells": [
  {
   "cell_type": "code",
   "execution_count": 1,
   "metadata": {},
   "outputs": [
    {
     "name": "stdout",
     "output_type": "stream",
     "text": [
      "2.3430749027719964\n"
     ]
    }
   ],
   "source": [
    "#3a + 3b\n",
    "def stdev(nums: list[float]) -> float:\n",
    "    mean = sum(nums) / len(nums)\n",
    "    variance = sum([(num - mean)**2 for num in nums]) / len(nums)\n",
    "    return variance**(1/2)\n",
    "\n",
    "print(stdev([3,1,4,1,5,9,2,6,5,3]))"
   ]
  },
  {
   "cell_type": "code",
   "execution_count": 2,
   "metadata": {},
   "outputs": [],
   "source": [
    "#3.c\n",
    "def stdev2(nums: list[float], sample=False) -> float:\n",
    "    if len(nums) <= 1 - (not sample):\n",
    "        raise RuntimeError(\"Not enough numbers provided\")\n",
    "    mean = sum(nums) / len(nums)\n",
    "    variance = sum([(num - mean)**2 for num in nums]) / (len(nums) - 1 * sample)\n",
    "    return variance**(1/2)"
   ]
  },
  {
   "cell_type": "code",
   "execution_count": 3,
   "metadata": {},
   "outputs": [
    {
     "name": "stdout",
     "output_type": "stream",
     "text": [
      "2.4698178070456938\n"
     ]
    }
   ],
   "source": [
    "#3d\n",
    "print(stdev2([3,1,4,1,5,9,2,6,5,3], True))\n"
   ]
  },
  {
   "cell_type": "code",
   "execution_count": 4,
   "metadata": {},
   "outputs": [
    {
     "name": "stdout",
     "output_type": "stream",
     "text": [
      "Not enough numbers provided\n",
      "Not enough numbers provided\n",
      "0.0\n",
      "Not enough numbers provided\n"
     ]
    }
   ],
   "source": [
    "#3e\n",
    "try:\n",
    "    print(stdev2([]))\n",
    "except RuntimeError as e:\n",
    "    print(e)   \n",
    "try:\n",
    "    print(stdev2([], True))\n",
    "except RuntimeError as e:\n",
    "    print(e)   \n",
    "try:\n",
    "    print(stdev2([3]))\n",
    "except RuntimeError as e:\n",
    "    print(e)   \n",
    "try:\n",
    "    print(stdev2([3], True))\n",
    "except RuntimeError as e:\n",
    "    print(e)   "
   ]
  },
  {
   "cell_type": "code",
   "execution_count": 5,
   "metadata": {},
   "outputs": [
    {
     "name": "stdout",
     "output_type": "stream",
     "text": [
      "2\n"
     ]
    }
   ],
   "source": [
    "#4e\n",
    "import math\n",
    "def closest(nums: list[float], val: float):\n",
    "    if len(nums) == 0:\n",
    "        return -1\n",
    "    min = abs(nums[0] - val)\n",
    "    min_index = 0\n",
    "    for i, num in enumerate(nums):\n",
    "        if abs(num - val) < min:\n",
    "            min = num - val\n",
    "            min_index = i\n",
    "    return min_index\n",
    "\n",
    "print(closest([1,1,2,3,5,8,13,21], math.pi))"
   ]
  }
 ],
 "metadata": {
  "kernelspec": {
   "display_name": "venv",
   "language": "python",
   "name": "python3"
  },
  "language_info": {
   "codemirror_mode": {
    "name": "ipython",
    "version": 3
   },
   "file_extension": ".py",
   "mimetype": "text/x-python",
   "name": "python",
   "nbconvert_exporter": "python",
   "pygments_lexer": "ipython3",
   "version": "3.10.9"
  },
  "orig_nbformat": 4,
  "vscode": {
   "interpreter": {
    "hash": "458ecf9fbc0eba51b2969b4d156660e2941513a2769332dfaca844f994b245b0"
   }
  }
 },
 "nbformat": 4,
 "nbformat_minor": 2
}
