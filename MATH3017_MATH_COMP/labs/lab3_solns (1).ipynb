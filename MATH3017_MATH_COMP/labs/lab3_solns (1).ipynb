{
 "cells": [
  {
   "cell_type": "markdown",
   "metadata": {},
   "source": [
    "# School of Mathematics and Statistics, University of Sydney\n",
    "# MATH3X76/4076 Mathematical Computing\n",
    "## Lab 3 - NumPy (Solutions)\n",
    "\n",
    "These labs are developed partially based on content from S. Roberts, G. Chandler, J. Thomson, L. Stals, K. Duru and G. Vasil.\n",
    "\n",
    "This lab will introduce you to linear algebra in Python, using the numpy package. NumPy (short for 'numeric Python') is the standard package for manipulating vectors and matrices in Python. It comes included as part of the Anaconda distribution.\n",
    "\n",
    "To check that you have NumPy, load the package (using the standard abbreviation `np`) and check the package version:"
   ]
  },
  {
   "cell_type": "code",
   "execution_count": 1,
   "metadata": {},
   "outputs": [
    {
     "name": "stdout",
     "output_type": "stream",
     "text": [
      "1.18.1\n"
     ]
    }
   ],
   "source": [
    "import numpy as np\n",
    "print(np.__version__)"
   ]
  },
  {
   "cell_type": "markdown",
   "metadata": {},
   "source": [
    "For more information about anything in NumPy, the online documentation is very helpful: https://numpy.org/doc/stable/.\n",
    "\n",
    "The available NumPy functions and specific syntax don’t change much, but are occasionally updated. If there is a mismatch between what the documentation says and what NumPy is allowing you to do, you may want to check the documentation for the specific version of NumPy you have installed (as you checked above) on this page: https://docs.scipy.org/doc/.\n",
    "\n",
    "For the rest of this lab, we will assume you have imported NumPy in the standard way (as above): `import numpy as np`\n",
    "\n",
    "It is best practice to do this at the top of your notebook (or `.py` file if you are using Spyder)."
   ]
  },
  {
   "cell_type": "markdown",
   "metadata": {},
   "source": [
    "### 3.1 NumPy Vectors\n",
    "\n",
    "The standard data type for linear algebra is a NumPy *array*. This data type includes vectors, matrices and tensors (higher-dimensional versions of matrices). In an array, every entry has to have the same type (usually a floating-point number of type float). \n",
    "\n",
    "A vector is a one-dimensional array. You can create a vector from a list of numbers (optionally telling NumPy the type of the array):"
   ]
  },
  {
   "cell_type": "code",
   "execution_count": 2,
   "metadata": {},
   "outputs": [
    {
     "name": "stdout",
     "output_type": "stream",
     "text": [
      "x1 = [ 1  4  9 16 25 36 49]\n",
      "x2 = [ 1.  4.  9. 16. 25. 36. 49.]\n",
      "x3 = [ 1.  4.  9. 16. 25. 36. 49.]\n"
     ]
    }
   ],
   "source": [
    "# Create a vector of integers\n",
    "x1 = np.array([1, 4, 9, 16, 25, 36, 49])\n",
    "print(\"x1 =\", x1)\n",
    "\n",
    "# Create a vector of floating-point numbers\n",
    "x2 = np.array([1.0, 4.0, 9.0, 16.0, 25.0, 36.0, 49.0])\n",
    "print(\"x2 =\", x2)\n",
    "\n",
    "# Create a vector of floating-point numbers (alternative)\n",
    "x3 = np.array([1, 4, 9, 16, 25, 36, 49], dtype=float)\n",
    "print(\"x3 =\", x3)"
   ]
  },
  {
   "cell_type": "markdown",
   "metadata": {},
   "source": [
    "NumPy has a large number of functions to create common vectors:"
   ]
  },
  {
   "cell_type": "code",
   "execution_count": 3,
   "metadata": {},
   "outputs": [
    {
     "name": "stdout",
     "output_type": "stream",
     "text": [
      "y1 = [0. 0. 0. 0. 0. 0. 0. 0. 0. 0.]\n",
      "y2 = [1. 1. 1. 1.]\n",
      "y3 = [2. 2. 2. 2. 2. 2. 2. 2.]\n",
      "y4 = [0 1 2 3 4 5 6 7 8 9]\n",
      "y5 = [ 1  2  3  4  5  6  7  8  9 10 11 12 13 14 15 16 17 18 19 20]\n",
      "y6 = [-1.  -0.9 -0.8 -0.7 -0.6 -0.5 -0.4 -0.3 -0.2 -0.1  0.   0.1  0.2  0.3\n",
      "  0.4  0.5  0.6  0.7  0.8  0.9  1. ]\n"
     ]
    }
   ],
   "source": [
    "# Create a length-10 vector of floating-point numbers, filled with zeros\n",
    "y1 = np.zeros((10,))\n",
    "print(\"y1 =\", y1)\n",
    "\n",
    "# Create a length-4 vector of floating-point numbers, filled with ones\n",
    "y2 = np.ones((4,))\n",
    "print(\"y2 =\", y2)\n",
    "\n",
    "# Create a length-8 vector of floating-point numbers, filled with twos\n",
    "y3 = np.full((8,), 2.0)\n",
    "print(\"y3 =\", y3)\n",
    "\n",
    "# Create a sequence of integers, like in range\n",
    "y4 = np.arange(10)\n",
    "print(\"y4 =\", y4)\n",
    "y5 = np.arange(1, 21)\n",
    "print(\"y5 =\", y5)\n",
    "\n",
    "# Create a vector of 21 equally spaced floating-point numbers in the interval [-1, 1]\n",
    "y6 = np.linspace(-1, 1, 21)\n",
    "print(\"y6 =\", y6)"
   ]
  },
  {
   "cell_type": "markdown",
   "metadata": {},
   "source": [
    "Given a vector, it is often useful to check certain properties:"
   ]
  },
  {
   "cell_type": "code",
   "execution_count": 4,
   "metadata": {},
   "outputs": [
    {
     "name": "stdout",
     "output_type": "stream",
     "text": [
      "float64\n",
      "21\n",
      "(21,)\n"
     ]
    }
   ],
   "source": [
    "# The data type of the elements of a vector\n",
    "print(y6.dtype)\n",
    "\n",
    "# The number of elements in a vector\n",
    "print(len(y6))\n",
    "\n",
    "# The 'shape' of a vector\n",
    "print(y6.shape)"
   ]
  },
  {
   "cell_type": "markdown",
   "metadata": {},
   "source": [
    "The default float data type in NumPy is 64-bit floating-point numbers. We will discuss what this means later in the course, but essentially it means numbers are represented in scientific notation with about 15–16 significant figures."
   ]
  },
  {
   "cell_type": "markdown",
   "metadata": {},
   "source": [
    "**Shape:** The `shape` of a NumPy vector or matrix is a tuple of integers, representing the number of values in each dimension. Here, `y6.shape` is a tuple of length 1, which contains the size of the vector. Remember that length-1 tuples are written like `(21,)` rather than `21`. For matrices, the shape will have two numbers (e.g. `(21, 3)`), which are the number of rows and columns respectively.\n",
    "\n",
    "You can check the number of dimensions of an array with"
   ]
  },
  {
   "cell_type": "code",
   "execution_count": 5,
   "metadata": {},
   "outputs": [
    {
     "name": "stdout",
     "output_type": "stream",
     "text": [
      "1\n"
     ]
    }
   ],
   "source": [
    "print(y6.ndim)  # 1 for vectors, 2 for matrices, etc.\n",
    "# (shortcut for len(y6.shape))"
   ]
  },
  {
   "cell_type": "markdown",
   "metadata": {},
   "source": [
    "and you can access each entry of the shape as with regular tuples"
   ]
  },
  {
   "cell_type": "code",
   "execution_count": 6,
   "metadata": {},
   "outputs": [
    {
     "name": "stdout",
     "output_type": "stream",
     "text": [
      "21\n"
     ]
    }
   ],
   "source": [
    "print(y6.shape[0]) # first element of y6.shape"
   ]
  },
  {
   "cell_type": "markdown",
   "metadata": {},
   "source": [
    "**Warning!** NumPy treats vectors in $\\mathbb{R}^n$ (`x.shape = (n,)`) slightly differently to row/column matrices in $\\mathbb{R}^{1\\times n}$ and $\\mathbb{R}^{n\\times 1}$ (e.g. `x.shape = (n,1)`). In almost all circumstances, you will only encounter vectors, but very rarely you come across row/column matrices. You can change them using the `reshape` command with the desired shape tuple (e.g. `y = x.reshape((n,))` to convert into a vector or `y = x.reshape((n,1))` to convert into a column matrix)."
   ]
  },
  {
   "cell_type": "markdown",
   "metadata": {},
   "source": [
    "### 3.2 Slicing and Modifying Vectors\n",
    "\n",
    "Just like for Python lists , we can extract elements of a vector using indexing. Remember, the first entry of a vector in $\\mathbb{R}^n$ has index `0`, and the last entry has index `n−1` (or in Python just `−1` for short). We can use indexing to read or change entries in a vector:"
   ]
  },
  {
   "cell_type": "code",
   "execution_count": 7,
   "metadata": {},
   "outputs": [
    {
     "name": "stdout",
     "output_type": "stream",
     "text": [
      "x = [-1.  -0.8 -0.6 -0.4 -0.2  0.   0.2  0.4  0.6  0.8  1. ]\n",
      "The second element of x is -0.8\n",
      "The last element of x is 1.0\n",
      "After editing, x = [-1.  -0.8 -0.6  2.  -0.2  0.   0.2  0.4  0.6  0.8  1. ]\n"
     ]
    }
   ],
   "source": [
    "# Create a vector\n",
    "x = np.linspace(-1, 1, 11)\n",
    "print(\"x =\", x)\n",
    "\n",
    "# Read entries of x\n",
    "second_element = x[1]\n",
    "print(\"The second element of x is\", second_element)\n",
    "last_element = x[-1]\n",
    "print(\"The last element of x is\", last_element)\n",
    "\n",
    "# Change the 4th entry of x\n",
    "x[3] = 2.0\n",
    "print(\"After editing, x =\", x)"
   ]
  },
  {
   "cell_type": "markdown",
   "metadata": {},
   "source": [
    "Again, just like lists, we can also use slicing to extract (or change) multiple entries."
   ]
  },
  {
   "cell_type": "code",
   "execution_count": 8,
   "metadata": {},
   "outputs": [
    {
     "name": "stdout",
     "output_type": "stream",
     "text": [
      "x = [-1.  -0.8 -0.6 -0.4 -0.2  0.   0.2  0.4  0.6  0.8  1. ]\n",
      "x[:3] = [-1.  -0.8 -0.6]\n",
      "x[-2:] = [0.8 1. ]\n",
      "x[1:4] = [-0.8 -0.6 -0.4]\n",
      "x[indices] = [-1.  -0.6 -0.4  0.8]\n",
      "After first edit, x = [100.  100.  100.   -0.4  -0.2   0.    0.2   0.4   0.6   0.8   1. ]\n",
      "After second edit, x = [ 1.   2.   4.  -0.4 -0.2  0.   0.2  0.4  0.6  0.8  1. ]\n"
     ]
    }
   ],
   "source": [
    "# Create a vector\n",
    "x = np.linspace(-1, 1, 11)\n",
    "print(\"x =\", x)\n",
    "\n",
    "# Basic slicing examples:\n",
    "print(\"x[:3] =\", x[:3]) # first 3 elements\n",
    "print(\"x[-2:] =\", x[-2:]) # last 2 elements\n",
    "print(\"x[1:4] =\", x[1:4]) # indices 1 to 4 (not inclusive of 4)\n",
    "\n",
    "# Extracting specific elements with a list of indices\n",
    "indices = [0, 2, 3, 9]\n",
    "print(\"x[indices] =\", x[indices])\n",
    "\n",
    "# Change multiple entries to a single value\n",
    "x[:3] = 100.0\n",
    "print(\"After first edit, x =\", x)\n",
    "\n",
    "# Change multiple entries to a new vector of values\n",
    "x[:3] = np.array([1.0, 2.0, 4.0])\n",
    "print(\"After second edit, x =\", x)"
   ]
  },
  {
   "cell_type": "markdown",
   "metadata": {},
   "source": [
    "**Exercise 1: Given a vector `x`, write code which sets all elements of `x` to zero except the first and last elements, which should stay unchanged. Verify that your code works on a test vector of your choice.**"
   ]
  },
  {
   "cell_type": "code",
   "execution_count": 9,
   "metadata": {},
   "outputs": [
    {
     "name": "stdout",
     "output_type": "stream",
     "text": [
      "x = [-1.  -0.8 -0.6 -0.4 -0.2  0.   0.2  0.4  0.6  0.8  1. ]\n",
      "x = [-1.  0.  0.  0.  0.  0.  0.  0.  0.  0.  1.]\n"
     ]
    }
   ],
   "source": [
    "x = np.linspace(-1, 1, 11)\n",
    "print(\"x =\", x)\n",
    "x[1:-1] = 0\n",
    "print(\"x =\", x)"
   ]
  },
  {
   "cell_type": "markdown",
   "metadata": {},
   "source": [
    "### 3.3 Vector Arithmetic\n",
    "\n",
    "Unlike lists, NumPy vectors work properly with the standard vector space operations of addition, subtraction, scalar multiplication and linear combinations:"
   ]
  },
  {
   "cell_type": "code",
   "execution_count": 10,
   "metadata": {},
   "outputs": [
    {
     "name": "stdout",
     "output_type": "stream",
     "text": [
      "x = [1. 2. 3.]\n",
      "y = [-1.  4. -9.]\n",
      "x + y = [ 0.  6. -6.]\n",
      "x - y = [ 2. -2. 12.]\n",
      "2*x = [2. 4. 6.]\n",
      "3.5*x - 2*y = [ 5.5 -1.  28.5]\n"
     ]
    }
   ],
   "source": [
    "# Basic vector arithmetic\n",
    "x = np.array([1.0, 2.0, 3.0])\n",
    "y = np.array([-1.0, 4.0, -9.0])\n",
    "print(\"x =\", x)\n",
    "print(\"y =\", y)\n",
    "print(\"x + y =\", x + y)\n",
    "print(\"x - y =\", x - y)\n",
    "print(\"2*x =\", 2*x)\n",
    "print(\"3.5*x - 2*y =\", 3.5*x - 2*y)"
   ]
  },
  {
   "cell_type": "markdown",
   "metadata": {},
   "source": [
    "However, NumPy also allows us to do *element-wise* multiplication, division and exponentiation:"
   ]
  },
  {
   "cell_type": "code",
   "execution_count": 11,
   "metadata": {},
   "outputs": [
    {
     "name": "stdout",
     "output_type": "stream",
     "text": [
      "x * y = [ -1.   8. -27.]\n",
      "x / y = [-1.          0.5        -0.33333333]\n",
      "x**2 = [1. 4. 9.]\n",
      "2**y = [5.000000e-01 1.600000e+01 1.953125e-03]\n",
      "y**x = [  -1.   16. -729.]\n"
     ]
    }
   ],
   "source": [
    "# Element-wise multiplication and division of arrays\n",
    "print(\"x * y =\", x * y)\n",
    "print(\"x / y =\", x / y)\n",
    "\n",
    "# Element-wise exponentiation\n",
    "print(\"x**2 =\", x**2)\n",
    "print(\"2**y =\", 2**y)\n",
    "print(\"y**x =\", y**x)"
   ]
  },
  {
   "cell_type": "markdown",
   "metadata": {},
   "source": [
    "**Warning!** In NumPy, multiplication and division are always done entry-wise (for vectors and matrices).\n",
    "\n",
    "In NumPy, the 'at' symbol @ and the transpose operator `x.T` can be used to compute the vector dot product $x^T y$:"
   ]
  },
  {
   "cell_type": "code",
   "execution_count": 12,
   "metadata": {},
   "outputs": [
    {
     "name": "stdout",
     "output_type": "stream",
     "text": [
      "x.T @ y = -20.0\n"
     ]
    }
   ],
   "source": [
    "# Vector dot product\n",
    "print(\"x.T @ y =\", x.T @ y)"
   ]
  },
  {
   "cell_type": "markdown",
   "metadata": {},
   "source": [
    "**Exercise 2: What does NumPy do when you try to combine two vectors of different lengths using the above operations? Do you think this is a sensible choice (briefly explain your answer)?**"
   ]
  },
  {
   "cell_type": "code",
   "execution_count": 13,
   "metadata": {},
   "outputs": [],
   "source": [
    "x1 = np.array([1, 2, 3])\n",
    "x2 = np.array([4, 5])\n",
    "# print(x1 + x2)\n",
    "#print(x1.T @ x2)\n",
    "\n",
    "# We get an error saying there is a mismatch in \"core dimension 0\"\n",
    "# It is sensible to retun an error (since mathematically this operation is not defined),\n",
    "# although the message for dot products could be more clear"
   ]
  },
  {
   "cell_type": "markdown",
   "metadata": {},
   "source": [
    "### 3.5 Functions of Vectors\n",
    "\n",
    "NumPy also has many built-in functions to do calculations on vectors. These are all defined element-wise:"
   ]
  },
  {
   "cell_type": "code",
   "execution_count": 14,
   "metadata": {},
   "outputs": [
    {
     "name": "stdout",
     "output_type": "stream",
     "text": [
      "x = [1. 2. 3.]\n",
      "np.sqrt(x) = [1.         1.41421356 1.73205081]\n",
      "np.sin(x) = [0.84147098 0.90929743 0.14112001]\n",
      "np.exp(x) = [ 2.71828183  7.3890561  20.08553692]\n"
     ]
    }
   ],
   "source": [
    "# Element-wise functions of vectors\n",
    "x = np.array([1.0, 2.0, 3.0])\n",
    "print(\"x =\", x)\n",
    "print(\"np.sqrt(x) =\", np.sqrt(x))\n",
    "print(\"np.sin(x) =\", np.sin(x))\n",
    "print(\"np.exp(x) =\", np.exp(x))"
   ]
  },
  {
   "cell_type": "markdown",
   "metadata": {},
   "source": [
    "Of course, there are many more functions available (see https://numpy.org/doc/stable/reference/routines.math.html). These are very useful for evaluating a mathematical function for many different inputs (e.g. for plotting).\n",
    "\n",
    "**Warning!** You could use the functions in the math module and a 'for' loop to calculate element-wise functions for a vector. However, in Python this is significantly slower and should be avoided whenever possible. In fact, this article shows some examples where using NumPy functions is about 70 times faster than a 'for' loop over a list: https://realpython.com/numpy-array-programming/"
   ]
  },
  {
   "cell_type": "code",
   "execution_count": 15,
   "metadata": {},
   "outputs": [],
   "source": [
    "import math\n",
    "\n",
    "# Slow elementwise sqrt calculation\n",
    "# **Do not use this, use np.sqrt instead!**\n",
    "def vector_sqrt(x):\n",
    "    y = np.zeros((len(x),)) # create an empty vector with the same length as x\n",
    "    for i in range(n):\n",
    "        y[i] = math.sqrt(x[i])\n",
    "    return y"
   ]
  },
  {
   "cell_type": "markdown",
   "metadata": {},
   "source": [
    "There are also routines for looking at summary information about an array. Some examples include:"
   ]
  },
  {
   "cell_type": "code",
   "execution_count": 16,
   "metadata": {},
   "outputs": [
    {
     "name": "stdout",
     "output_type": "stream",
     "text": [
      "x = [1. 2. 3. 4.]\n",
      "Maximum element = 4.0\n",
      "Minimum element = 1.0\n",
      "Sum of elements = 10.0\n",
      "Product of elements = 24.0\n",
      "Average of elements = 2.5\n"
     ]
    }
   ],
   "source": [
    "# Summary functions of vectors\n",
    "x = np.array([1.0, 2.0, 3.0, 4.0])\n",
    "print(\"x =\", x)\n",
    "print(\"Maximum element =\", np.max(x))\n",
    "print(\"Minimum element =\", np.min(x))\n",
    "print(\"Sum of elements =\", np.sum(x))\n",
    "print(\"Product of elements =\", np.prod(x))\n",
    "print(\"Average of elements =\", np.mean(x))"
   ]
  },
  {
   "cell_type": "markdown",
   "metadata": {},
   "source": [
    "**Exercise 3: Given two vectors $x,y\\in\\mathbb{R}^n$ with $y\\neq 0$, we can always write $x=v_1+v_2$, where $v_1$ is a vector parallel to $y$ and $v_2$ is a vector orthogonal to $y$. Write code which, given NumPy vectors `x` and `y`, calculates $v_1$ and $v_2$. Your code should work for vectors of any dimension $n$. By running your code on test vectors `x = np.array([2.0, -3.0])` and `y = np.array([1.0, 1.0])`, show that your function produces the correct answer.**"
   ]
  },
  {
   "cell_type": "markdown",
   "metadata": {},
   "source": [
    "We can derive the required relationships by writing $v_1 = \\alpha y$ for some $\\alpha\\in\\mathbb{R}$ and computing\n",
    "\n",
    "$x^T y = (v_1 + v_2)^T y = v_1^T y + v_2^T y = \\alpha y^T y + 0, $\n",
    "\n",
    "and so $\\alpha = x^T y / y^T y$, which defines $v_1$. We get $v_2$ simply by $v_2=x-v_1$."
   ]
  },
  {
   "cell_type": "code",
   "execution_count": 17,
   "metadata": {},
   "outputs": [
    {
     "name": "stdout",
     "output_type": "stream",
     "text": [
      "x = [ 2. -3.]\n",
      "y = [1. 1.]\n",
      "v1 = [-0.5 -0.5]\n",
      "v2 = [ 2.5 -2.5]\n",
      "Check 1: v1/y (expect constant) = [-0.5 -0.5]\n",
      "Check 2: v2^T y (expect zero) = 0.0\n",
      "Check 3: x-v1-v2 (expect zero) = [0. 0.]\n"
     ]
    }
   ],
   "source": [
    "x = np.array([2.0, -3.0])\n",
    "y = np.array([1.0, 1.0])\n",
    "print(\"x =\", x)\n",
    "print(\"y =\", y)\n",
    "v1 = (x.T @ y) / (y.T @ y) * y\n",
    "v2 = x - v1\n",
    "print(\"v1 =\", v1)\n",
    "print(\"v2 =\", v2)\n",
    "print(\"Check 1: v1/y (expect constant) =\", v1/y)\n",
    "print(\"Check 2: v2^T y (expect zero) =\", v2.T @ y)\n",
    "print(\"Check 3: x-v1-v2 (expect zero) =\", x-v1-v2)"
   ]
  },
  {
   "cell_type": "markdown",
   "metadata": {},
   "source": [
    "**Output formatting:** Some of the examples above show that NumPy automatically displays a variable number of decimal places when printing arrays (and if any entries are very large/small, it will switch all entries to scientific notation).\n",
    "\n",
    "Sometimes it is useful to print arrays in a more friendly way, for example by always turning on/off scientific notation or only showing a certain number of decimal places. This can be done with NumPy's `set_printoptions` function: https://numpy.org/doc/stable/reference/generated/numpy.set_printoptions.html\n",
    "\n",
    "For example,\n",
    "\n",
    "`np.set_printoptions(precision=3, suppress=True)`\n",
    "\n",
    "always shows numbers to 3 decimal places, and never using scientific notation. \n",
    "\n",
    "For now, we will just use the default print options."
   ]
  },
  {
   "cell_type": "markdown",
   "metadata": {},
   "source": [
    "### 3.6 Matrices in NumPy\n",
    "\n",
    "In NumPy, matrices are stored as two-dimensional arrays (i.e. `A.shape` is a tuple of length 2). Just like vectors, all entries of a matrix must have the same data type. The simplest way to create a matrix is by listing all entries, *row-by-row*:"
   ]
  },
  {
   "cell_type": "code",
   "execution_count": 18,
   "metadata": {},
   "outputs": [
    {
     "name": "stdout",
     "output_type": "stream",
     "text": [
      "A1 = [[ 1  2  3]\n",
      " [ 4  5  6]\n",
      " [ 7  8  9]\n",
      " [10 11 12]]\n",
      "A2 = [[ 1.  2.  3.]\n",
      " [ 4.  5.  6.]\n",
      " [ 7.  8.  9.]\n",
      " [10. 11. 12.]]\n",
      "A3 = [[ 1.  2.  3.]\n",
      " [ 4.  5.  6.]\n",
      " [ 7.  8.  9.]\n",
      " [10. 11. 12.]]\n"
     ]
    }
   ],
   "source": [
    "# Create a matrix of integers from a list of rows\n",
    "A1 = np.array([[1, 2, 3], [4, 5, 6], [7, 8, 9], [10, 11, 12]])\n",
    "print(\"A1 =\", A1)\n",
    "\n",
    "# Create a matrix of floating-point numbers\n",
    "A2 = np.array([[1.0, 2.0, 3.0], [4.0, 5.0, 6.0], [7.0, 8.0, 9.0], [10.0, 11.0, 12.0]])\n",
    "print(\"A2 =\", A2)\n",
    "\n",
    "# Create a matrix of floating-point numbers (alternative)\n",
    "A3 = np.array([[1, 2, 3], [4, 5, 6], [7, 8, 9], [10, 11, 12]], dtype=float)\n",
    "print(\"A3 =\", A3)"
   ]
  },
  {
   "cell_type": "markdown",
   "metadata": {},
   "source": [
    "Alternatively, NumPy gives some built-in functions to create some common matrices:"
   ]
  },
  {
   "cell_type": "code",
   "execution_count": 19,
   "metadata": {},
   "outputs": [
    {
     "name": "stdout",
     "output_type": "stream",
     "text": [
      "A4 = [[0. 0. 0.]\n",
      " [0. 0. 0.]]\n",
      "A5 = [[1. 1. 1.]\n",
      " [1. 1. 1.]\n",
      " [1. 1. 1.]]\n",
      "A6 = [[2. 2.]\n",
      " [2. 2.]]\n"
     ]
    }
   ],
   "source": [
    "# Create a 2x3 matrix of floating point numbers, filled with zeros\n",
    "A4 = np.zeros((2, 3))\n",
    "print(\"A4 =\", A4)\n",
    "\n",
    "# Create a 3x3 matrix of floating point numbers, filled with ones\n",
    "A5 = np.ones((3, 3))\n",
    "print(\"A5 =\", A5)\n",
    "\n",
    "# Create a 2x2 matrix of floating point numbers, filled with twos\n",
    "A6 = np.full((2, 2), 2.0)\n",
    "print(\"A6 =\", A6)"
   ]
  },
  {
   "cell_type": "markdown",
   "metadata": {},
   "source": [
    "Another way to create a matrix is to take a vector and reshape it into a matrix:"
   ]
  },
  {
   "cell_type": "code",
   "execution_count": 20,
   "metadata": {},
   "outputs": [
    {
     "name": "stdout",
     "output_type": "stream",
     "text": [
      "x = [-1.  -0.9 -0.8 -0.7 -0.6 -0.5 -0.4 -0.3 -0.2 -0.1  0.   0.1  0.2  0.3\n",
      "  0.4  0.5  0.6  0.7  0.8  0.9  1. ]\n",
      "A7 = [[-1.  -0.9 -0.8 -0.7 -0.6 -0.5 -0.4]\n",
      " [-0.3 -0.2 -0.1  0.   0.1  0.2  0.3]\n",
      " [ 0.4  0.5  0.6  0.7  0.8  0.9  1. ]]\n"
     ]
    }
   ],
   "source": [
    "x = np.linspace(-1, 1, 21)\n",
    "A7 = x.reshape((3, 7))\n",
    "print(\"x =\", x)\n",
    "print(\"A7 =\", A7)"
   ]
  },
  {
   "cell_type": "markdown",
   "metadata": {},
   "source": [
    "A very important matrix is the identity matrix, which is created with the `eye` function:"
   ]
  },
  {
   "cell_type": "code",
   "execution_count": 21,
   "metadata": {},
   "outputs": [
    {
     "name": "stdout",
     "output_type": "stream",
     "text": [
      "I = [[1. 0. 0. 0.]\n",
      " [0. 1. 0. 0.]\n",
      " [0. 0. 1. 0.]\n",
      " [0. 0. 0. 1.]]\n"
     ]
    }
   ],
   "source": [
    "# Create a 4*4 identity matrix of floating point numbers\n",
    "I = np.eye(4)\n",
    "print(\"I =\", I)"
   ]
  },
  {
   "cell_type": "markdown",
   "metadata": {},
   "source": [
    "Sometimes we want to build a matrix with specific entries on one of the diagonals. We can do this with `diag`:"
   ]
  },
  {
   "cell_type": "code",
   "execution_count": 22,
   "metadata": {},
   "outputs": [
    {
     "name": "stdout",
     "output_type": "stream",
     "text": [
      "D = [[1. 0. 0.]\n",
      " [0. 2. 0.]\n",
      " [0. 0. 3.]]\n",
      "D2 = [[0. 0. 0.]\n",
      " [1. 0. 0.]\n",
      " [0. 2. 0.]]\n"
     ]
    }
   ],
   "source": [
    "# Create a diagonal matrix\n",
    "diagonal_entries = np.array([1.0, 2.0, 3.0])\n",
    "D = np.diag(diagonal_entries)\n",
    "print(\"D =\", D)\n",
    "\n",
    "# Create a matrix with entries just below the diagonal\n",
    "subdiagonal_entries = np.array([1.0, 2.0])\n",
    "D2 = np.diag(subdiagonal_entries, -1)\n",
    "print(\"D2 =\", D2)"
   ]
  },
  {
   "cell_type": "markdown",
   "metadata": {},
   "source": [
    "If we have some smaller matrices, we can also assemble them into a block matrix:"
   ]
  },
  {
   "cell_type": "code",
   "execution_count": 23,
   "metadata": {},
   "outputs": [
    {
     "name": "stdout",
     "output_type": "stream",
     "text": [
      "[[ 1.   0.   0.5  0.5  0.5]\n",
      " [ 0.   1.   0.5  0.5  0.5]\n",
      " [-1.  -1.   1.   0.   0. ]\n",
      " [-1.  -1.   0.   1.   0. ]\n",
      " [-1.  -1.   0.   0.   1. ]]\n"
     ]
    }
   ],
   "source": [
    "A1 = np.eye(2)\n",
    "A2 = np.full((2,3), 0.5)\n",
    "A3 = np.full((3,2), -1.0)\n",
    "A4 = np.eye(3)\n",
    "A5 = np.block([[A1, A2], [A3, A4]])  # blocks listed row-by-row\n",
    "print(A5)\n",
    "\n",
    "# Similar functions include np.hstack and np.vstack"
   ]
  },
  {
   "cell_type": "markdown",
   "metadata": {},
   "source": [
    "With any matrix, we have the same basic properties as vectors:"
   ]
  },
  {
   "cell_type": "code",
   "execution_count": 24,
   "metadata": {},
   "outputs": [
    {
     "name": "stdout",
     "output_type": "stream",
     "text": [
      "float64\n",
      "(3, 7)\n",
      "2\n"
     ]
    }
   ],
   "source": [
    "# Data type of a matrix\n",
    "print(A7.dtype)\n",
    "\n",
    "# Shape of a matrix\n",
    "print(A7.shape)\n",
    "\n",
    "# Number of dimensions\n",
    "print(A7.ndim) # matrix is 2-dimensional (again short for len(A7.shape))"
   ]
  },
  {
   "cell_type": "markdown",
   "metadata": {},
   "source": [
    "Now, matrices have a shape with two numbers: the number of rows and the number of columns."
   ]
  },
  {
   "cell_type": "code",
   "execution_count": 25,
   "metadata": {},
   "outputs": [
    {
     "name": "stdout",
     "output_type": "stream",
     "text": [
      "A7 has nrows = 3\n",
      "A7 has ncols = 7\n"
     ]
    }
   ],
   "source": [
    "nrows = A7.shape[0]\n",
    "ncols = A7.shape[1]\n",
    "# Or more simply...\n",
    "nrows, ncols = A7.shape\n",
    "print(\"A7 has nrows =\", nrows)\n",
    "print(\"A7 has ncols =\", ncols)"
   ]
  },
  {
   "cell_type": "markdown",
   "metadata": {},
   "source": [
    "### 3.7 Slicing Matrices\n",
    "\n",
    "Selecting and editing elements or slices of matrices is exactly the same as vectors, but we need two indices/slices: one for the rows, and one for the columns. Don’t forget that indices start from zero."
   ]
  },
  {
   "cell_type": "code",
   "execution_count": 26,
   "metadata": {},
   "outputs": [
    {
     "name": "stdout",
     "output_type": "stream",
     "text": [
      "A = [[ 1.  2.  3.]\n",
      " [ 4.  5.  6.]\n",
      " [ 7.  8.  9.]\n",
      " [10. 11. 12.]]\n",
      "A[1,0] = 4.0\n",
      "A[-1,2] = 12.0\n"
     ]
    }
   ],
   "source": [
    "# Create an example matrix\n",
    "A = np.array([[1.0, 2.0, 3.0], [4.0, 5.0, 6.0], [7.0, 8.0, 9.0], [10.0, 11.0, 12.0]])\n",
    "print(\"A =\", A)\n",
    "\n",
    "# Element in second row, first column\n",
    "print(\"A[1,0] =\", A[1,0])\n",
    "\n",
    "# Element in the last row, third column\n",
    "print(\"A[-1,2] =\", A[-1,2])"
   ]
  },
  {
   "cell_type": "markdown",
   "metadata": {},
   "source": [
    "All slicing is the same (note that we just use `:` to refer to all elements in a row/column)."
   ]
  },
  {
   "cell_type": "code",
   "execution_count": 27,
   "metadata": {},
   "outputs": [
    {
     "name": "stdout",
     "output_type": "stream",
     "text": [
      "Second row = [4. 5. 6.]\n",
      "Last column = [ 3.  6.  9. 12.]\n",
      "First two rows = [[1. 2. 3.]\n",
      " [4. 5. 6.]]\n",
      "Top of last two columns = [[2. 3.]\n",
      " [5. 6.]\n",
      " [8. 9.]]\n"
     ]
    }
   ],
   "source": [
    "# Extract the second row of A (as a NumPy vector)\n",
    "second_row = A[1,:]\n",
    "print(\"Second row =\", second_row)\n",
    "\n",
    "# Extract the last column of A\n",
    "last_column = A[:,-1]\n",
    "print(\"Last column =\", last_column)\n",
    "\n",
    "# Extract the first two rows of A\n",
    "first_two_rows = A[:2, :]\n",
    "print(\"First two rows =\", first_two_rows)\n",
    "\n",
    "# First three elements of the last two columns\n",
    "top_of_last_columns = A[:3, -2:]\n",
    "print(\"Top of last two columns =\", top_of_last_columns)"
   ]
  },
  {
   "cell_type": "markdown",
   "metadata": {},
   "source": [
    "Any of the slicing methods described for vectors (see above) can be used for the row/column selection. Whenever we are extracting a single row/column (or part of a row/column), we get a NumPy vector.\n",
    "\n",
    "Sometimes we also want to extract the diagonal entries of matrix as a vector:"
   ]
  },
  {
   "cell_type": "code",
   "execution_count": 28,
   "metadata": {},
   "outputs": [
    {
     "name": "stdout",
     "output_type": "stream",
     "text": [
      "A2 = [[1. 2. 3.]\n",
      " [4. 5. 6.]\n",
      " [7. 8. 9.]]\n",
      "Diagonal entries = [1. 5. 9.]\n"
     ]
    }
   ],
   "source": [
    "A2 = np.array([[1.0, 2.0, 3.0], [4.0, 5.0, 6.0], [7.0, 8.0, 9.0]])\n",
    "print(\"A2 =\", A2)\n",
    "print(\"Diagonal entries =\", np.diag(A2))"
   ]
  },
  {
   "cell_type": "markdown",
   "metadata": {},
   "source": [
    "**Warning!** The function np.diag behaves differently if its input is a vector or a matrix (either creating a matrix with given diagonal entries, or extracting the diagonal entries)."
   ]
  },
  {
   "cell_type": "markdown",
   "metadata": {},
   "source": [
    "### 3.8 Matrix Arithmetic\n",
    "\n",
    "The standard matrix operations (addition, subtraction, scalar multiplication) work as expected:"
   ]
  },
  {
   "cell_type": "code",
   "execution_count": 29,
   "metadata": {},
   "outputs": [
    {
     "name": "stdout",
     "output_type": "stream",
     "text": [
      "A = [[1. 2.]\n",
      " [3. 4.]]\n",
      "B = [[-1.   0. ]\n",
      " [ 0.5  2. ]]\n",
      "A + B = [[0.  2. ]\n",
      " [3.5 6. ]]\n",
      "A - B = [[2.  2. ]\n",
      " [2.5 2. ]]\n",
      "2*A - 0.5*B = [[2.5  4.  ]\n",
      " [5.75 7.  ]]\n"
     ]
    }
   ],
   "source": [
    "A = np.array([[1.0, 2.0], [3.0, 4.0]])\n",
    "B = np.array([[-1.0, 0.0], [0.5, 2.0]])\n",
    "print(\"A =\", A)\n",
    "print(\"B =\", B)\n",
    "print(\"A + B =\", A+B)\n",
    "print(\"A - B =\", A-B)\n",
    "print(\"2*A - 0.5*B =\", 2*A - 0.5*B)"
   ]
  },
  {
   "cell_type": "markdown",
   "metadata": {},
   "source": [
    "Just like vectors, multiplication, division and exponentiation is element-wise:"
   ]
  },
  {
   "cell_type": "code",
   "execution_count": 30,
   "metadata": {},
   "outputs": [
    {
     "name": "stdout",
     "output_type": "stream",
     "text": [
      "A * B = [[-1.   0. ]\n",
      " [ 1.5  8. ]]\n",
      "B / A = [[-1.          0.        ]\n",
      " [ 0.16666667  0.5       ]]\n",
      "A**2 = [[ 1.  4.]\n",
      " [ 9. 16.]]\n"
     ]
    }
   ],
   "source": [
    "# Element-wise matrix multiplication, division and exponentiation\n",
    "print(\"A * B =\", A*B)\n",
    "print(\"B / A =\", B/A)\n",
    "print(\"A**2 =\", A**2)"
   ]
  },
  {
   "cell_type": "markdown",
   "metadata": {},
   "source": [
    "All standard matrix multiplication operations use the `@` symbol:"
   ]
  },
  {
   "cell_type": "code",
   "execution_count": 31,
   "metadata": {},
   "outputs": [
    {
     "name": "stdout",
     "output_type": "stream",
     "text": [
      "A @ x = [ 5. 11.]\n",
      "A @ B = [[ 0.  4.]\n",
      " [-1.  8.]]\n"
     ]
    }
   ],
   "source": [
    "# Standard matrix-vector multiplication\n",
    "x = np.array([1.0, 2.0])\n",
    "print(\"A @ x =\", A @ x)\n",
    "\n",
    "# Standard matrix-matrix multiplication\n",
    "print(\"A @ B =\", A @ B)"
   ]
  },
  {
   "cell_type": "markdown",
   "metadata": {},
   "source": [
    "NumPy also allows common functions to be computed element-wise:"
   ]
  },
  {
   "cell_type": "code",
   "execution_count": 32,
   "metadata": {},
   "outputs": [
    {
     "name": "stdout",
     "output_type": "stream",
     "text": [
      "np.sqrt(A) = [[1.         1.41421356]\n",
      " [1.73205081 2.        ]]\n",
      "np.sin(A) = [[ 0.84147098  0.90929743]\n",
      " [ 0.14112001 -0.7568025 ]]\n",
      "np.exp(A) = [[ 2.71828183  7.3890561 ]\n",
      " [20.08553692 54.59815003]]\n"
     ]
    }
   ],
   "source": [
    "# Element-wise functions for matrices\n",
    "print(\"np.sqrt(A) =\", np.sqrt(A))\n",
    "print(\"np.sin(A) =\", np.sin(A))\n",
    "print(\"np.exp(A) =\", np.exp(A))  # <-- element-wise e^x, not 'matrix exponential' (if you have seen this)"
   ]
  },
  {
   "cell_type": "markdown",
   "metadata": {},
   "source": [
    "To produce summary data, we can either collect information for each row or column, or for the whole matrix:"
   ]
  },
  {
   "cell_type": "code",
   "execution_count": 33,
   "metadata": {},
   "outputs": [
    {
     "name": "stdout",
     "output_type": "stream",
     "text": [
      "Row maxima = [3. 4.]\n",
      "Col maxima = [2. 4.]\n",
      "Overall maximum = 4.0\n"
     ]
    }
   ],
   "source": [
    "# Maximum entry in each row\n",
    "print(\"Row maxima =\", np.max(A, axis=0))\n",
    "\n",
    "# Maximum entry in each column\n",
    "print(\"Col maxima =\", np.max(A, axis=1))\n",
    "\n",
    "# Maximum entry in the whole matrix\n",
    "print(\"Overall maximum =\", np.max(A))"
   ]
  },
  {
   "cell_type": "markdown",
   "metadata": {},
   "source": [
    "The same `axis` input works for `np.min`, `np.sum`, `np.mean`, etc."
   ]
  },
  {
   "cell_type": "markdown",
   "metadata": {},
   "source": [
    "### 3.9 Linear Algebra Operations\n",
    "\n",
    "There are several important linear algebra operations that NumPy can compute, such as the transpose, inverse or determinant of a matrix."
   ]
  },
  {
   "cell_type": "code",
   "execution_count": 34,
   "metadata": {},
   "outputs": [
    {
     "name": "stdout",
     "output_type": "stream",
     "text": [
      "A = [[1. 2.]\n",
      " [3. 4.]]\n",
      "Transpose of A = [[1. 3.]\n",
      " [2. 4.]]\n",
      "Inverse of A = [[-2.   1. ]\n",
      " [ 1.5 -0.5]]\n",
      "Determinant of A = -2.0000000000000004\n",
      "Eigenvalues of A = [-0.37228132  5.37228132]\n"
     ]
    }
   ],
   "source": [
    "A = np.array([[1.0, 2.0], [3.0, 4.0]])\n",
    "print(\"A =\", A)\n",
    "print(\"Transpose of A =\", A.T)\n",
    "print(\"Inverse of A =\", np.linalg.inv(A))\n",
    "print(\"Determinant of A =\", np.linalg.det(A))\n",
    "print(\"Eigenvalues of A =\", np.linalg.eigvals(A))"
   ]
  },
  {
   "cell_type": "markdown",
   "metadata": {},
   "source": [
    "If we want to get the eigenvectors as well as eigenvalues, we can use the function `np.linalg.eig`."
   ]
  },
  {
   "cell_type": "markdown",
   "metadata": {},
   "source": [
    "**Exercise 4: How would you calculate the determinant of the top-left $2\\times 2$ block of a $10\\times 10$ matrix?**"
   ]
  },
  {
   "cell_type": "code",
   "execution_count": 35,
   "metadata": {},
   "outputs": [
    {
     "name": "stdout",
     "output_type": "stream",
     "text": [
      "(10, 10)\n",
      "[[1 0]\n",
      " [0 2]]\n",
      "2.0\n"
     ]
    }
   ],
   "source": [
    "A = np.diag(np.arange(1,11))  # arbitrary 10x10 matrix\n",
    "print(A.shape)\n",
    "print(A[:2, :2])\n",
    "print(np.linalg.det(A[:2, :2]))"
   ]
  },
  {
   "cell_type": "markdown",
   "metadata": {},
   "source": [
    "**Exercise 5: Recall that the trace of a square matrix is the sum of the diagonal entries: if $A\\in\\mathbb{R}^{n\\times n}$ then $\\operatorname{trace}(A) = \\sum_{i=1}^{n} A_{i,i}$. Write your own function to compute the trace of a matrix that does\n",
    "not use any loops (i.e. only using fast NumPy functions). Use your function to check the identity $\\operatorname{trace}(A^T A) = \\sum_{i=1}^{m} \\sum_{j=1}^{n} A_{i,j}^2$ for a *rectangular* matrix $A\\in\\mathbb{R}^{m\\times n}$ of your choice. MATH3976/4076 only: prove this identity mathematically.**"
   ]
  },
  {
   "cell_type": "markdown",
   "metadata": {},
   "source": [
    "Proof of the identity:\n",
    "\n",
    "$[A^T A]_{j,j} = \\sum_{i=1}^{m} [A^T]_{j,i} A_{i,j} = \\sum_{i=1}^{m} A_{i,j}^2, $\n",
    "\n",
    "and so\n",
    "\n",
    "$\\operatorname{trace}(A^T A) = \\sum_{j=1}^{n} [A^T A]_{j,j} = \\sum_{j=1}^{n} \\sum_{i=1}^{m} A_{i,j}^2.$"
   ]
  },
  {
   "cell_type": "code",
   "execution_count": 36,
   "metadata": {},
   "outputs": [
    {
     "name": "stdout",
     "output_type": "stream",
     "text": [
      "trace(A^T A) = 2870\n",
      "sum squares = 2870\n",
      "Difference = 0\n"
     ]
    }
   ],
   "source": [
    "def trace(A):\n",
    "    return np.sum(np.diag(A))\n",
    "\n",
    "# Build example rectangular matrix to check identity\n",
    "A = np.arange(21).reshape((7,3))\n",
    "print(\"trace(A^T A) =\", trace(A.T @ A))\n",
    "print(\"sum squares =\", np.sum(A**2))\n",
    "print(\"Difference =\", trace(A.T @ A) - np.sum(A**2))"
   ]
  },
  {
   "cell_type": "markdown",
   "metadata": {},
   "source": [
    "We will see later in the course that to solve a linear system $Ax = b$ it is generally not a good idea to compute $A^{-1}$ and evaluate $A^{-1} b$ (even though NumPy could do this). Instead, NumPy has a special solve function for linear systems:"
   ]
  },
  {
   "cell_type": "code",
   "execution_count": 37,
   "metadata": {},
   "outputs": [
    {
     "name": "stdout",
     "output_type": "stream",
     "text": [
      "A = [[1. 2.]\n",
      " [3. 4.]]\n",
      "b = [3.5 6.5]\n",
      "x = [-0.5  2. ]\n"
     ]
    }
   ],
   "source": [
    "A = np.array([[1.0, 2.0], [3.0, 4.0]])\n",
    "b = np.array([3.5, 6.5])\n",
    "x = np.linalg.solve(A, b)\n",
    "print(\"A =\", A)\n",
    "print(\"b =\", b)\n",
    "print(\"x =\", x)"
   ]
  },
  {
   "cell_type": "markdown",
   "metadata": {},
   "source": [
    "**Exercise 6: Write code to test what happens if you try to solve a linear system with a singular matrix. Do you think this is sensible (briefly explain your answer)?**"
   ]
  },
  {
   "cell_type": "code",
   "execution_count": 38,
   "metadata": {},
   "outputs": [],
   "source": [
    "A = np.zeros((3,3)) # simple singular matrix\n",
    "b = np.ones((3,))\n",
    "# x = np.linalg.solve(A, b)  # uncomment this\n",
    "\n",
    "# We get a LinAlgError: singular matrix\n",
    "# This is sensible (error because such systems usually do not have a solution), and the message is clear\n",
    "# If the system was consistent, it could try to return a solution (but which one, since there will be infinitely many?)"
   ]
  },
  {
   "cell_type": "markdown",
   "metadata": {},
   "source": [
    "The 'Hilbert matrix' is an $n\\times n$ matrix given by $A_{i,j} = \\frac{1}{i+j+1}$, where the indices are the same as NumPy (i.e. $i,j = 0,...,n − 1$).\n",
    "\n",
    "**Exercise 7 (MATH3976/4076 only): Write a function `hilbert(n)` which generates the $n\\times n$ Hilbert matrix $A$. For $n=15$, create the vector $b$ which is the first column of $A$. Mathematically, what is the true solution to $Ax = b$? Solve the linear system $Ax = b$ using `np.linalg.solve` and by calculating $A^{-1} b$. What do you observe?**\n",
    "\n",
    "We will discuss this scenario later in the course."
   ]
  },
  {
   "cell_type": "code",
   "execution_count": 39,
   "metadata": {},
   "outputs": [
    {
     "name": "stdout",
     "output_type": "stream",
     "text": [
      "x1 = [ 1.  0.  0.  0.  0.  0. -0.  0. -0.  0. -0. -0.  0. -0.  0.]\n",
      "x2 = [  -0.216   14.767  -51.286   43.406  124.613 -344.266  332.844 -107.75\n",
      "  -57.188   61.5    -18.       1.       0.       0.      -0.031]\n"
     ]
    }
   ],
   "source": [
    "def hilbert(n):\n",
    "    A = np.zeros((n,n)) # create an empty n*n matrix\n",
    "    for i in range(n):\n",
    "        for j in range(n):\n",
    "            A[i,j] = 1.0 / (i + j + 1.0)\n",
    "    return A\n",
    "\n",
    "A = hilbert(15)\n",
    "b = A[:, 0] # first column of A\n",
    "x1 = np.linalg.solve(A, b)  # expected solution is e1 = (1, 0, ..., 0)\n",
    "x2 = np.linalg.inv(A) @ b\n",
    "print(\"x1 =\", x1)\n",
    "\n",
    "# Some formatting could be nice here\n",
    "with np.printoptions(precision=3, suppress=True):\n",
    "    print(\"x2 =\", x2)\n",
    "\n",
    "# The solution from np.linalg.solve is correct, but the solution from inv(A)@b is very wrong \n",
    "# (e.g. first entry is −0.216 rather than 1, second entry is 14.767 rather than 0).\n",
    "\n",
    "# This is an example an ill-conditioned matrix, k(A)=3.5e17 in this instance\n",
    "# where unstable algorithms can show extreme errors (discussed later)"
   ]
  },
  {
   "cell_type": "markdown",
   "metadata": {},
   "source": [
    "### 3.10 Broadcasting\n",
    "\n",
    "A powerful feature of NumPy is to isolate and select a particular subset of an array based on some criteria, which tests whether each array element satisfies a certain condition. It returns an array of the same size, filled with `True` and `False` values."
   ]
  },
  {
   "cell_type": "code",
   "execution_count": 40,
   "metadata": {},
   "outputs": [
    {
     "name": "stdout",
     "output_type": "stream",
     "text": [
      "[0 1 2 3 4 5 6 7 8 9]\n",
      "[False False False False False False  True  True  True  True]\n"
     ]
    }
   ],
   "source": [
    "x = np.arange(10)\n",
    "print(x)\n",
    "mask = x > 5  # this also works for matrices\n",
    "print(mask)"
   ]
  },
  {
   "cell_type": "markdown",
   "metadata": {},
   "source": [
    "What's more, is that you can pick out the values that meet the cutoff just like we do for slicing."
   ]
  },
  {
   "cell_type": "code",
   "execution_count": 41,
   "metadata": {},
   "outputs": [
    {
     "name": "stdout",
     "output_type": "stream",
     "text": [
      "[6 7 8 9]\n",
      "Average of large entries = 7.5\n"
     ]
    }
   ],
   "source": [
    "print(x[x>5])  # or x[mask]\n",
    "# Since is just a regular vector, we can apply vector functions to it...\n",
    "print(\"Average of large entries =\", np.mean(x[x>5]))"
   ]
  },
  {
   "cell_type": "markdown",
   "metadata": {},
   "source": [
    "This is another convenient NumPy feature which can be used to avoid writing 'for' loops over all entries."
   ]
  },
  {
   "cell_type": "markdown",
   "metadata": {},
   "source": [
    "### 3.11 Exercise: Mandelbrot set (MATH3976/4076 only)\n",
    "\n",
    "The Mandelbrot set is a famous fractal image, first created in 1978. Create a plot of the Mandelbrot set by following these instructions:\n",
    "\n",
    "**Definition:** A point $(x,y)\\in\\mathbb{R}^2$ is in the Mandelbrot set if the iteration $z_0=0$, $z_{n+1}=z_n^2+c$, where $c=x+yi\\in\\mathbb{C}$, stays bounded as $n\\to\\infty$, and is not in the set if $|z_n|\\to\\infty$. *Note that this is a complex-valued iteration.*\n",
    "\n",
    "Steps:\n",
    "1. Construct a grid of $(x,y)$ values in $[-2,1]\\times[-1.5, 1.5]$. The function `np.meshgrid` may be useful here.\n",
    "2. Run the Mandelbrot iteration for some fixed number of iterations (e.g. $n=100$). Declare that $(x,y)$ is in the set if $|z_n|<C$ for some constant $C$ (e.g. $C=1000$), or if an `OverflowError` occurs.\n",
    "3. Build a 2D mask of Boolean values indicating if a point is in/not in the Mandelbrot set.\n",
    "4. Use the below plotting code to produce an image of the set, given your mask."
   ]
  },
  {
   "cell_type": "code",
   "execution_count": 42,
   "metadata": {},
   "outputs": [
    {
     "data": {
      "image/png": "[encoded data removed]",
      "text/plain": [
       "<Figure size 432x288 with 1 Axes>"
      ]
     },
     "metadata": {
      "needs_background": "light"
     },
     "output_type": "display_data"
    }
   ],
   "source": [
    "# Construct grid of values\n",
    "npt = 200\n",
    "x = np.linspace(-2, 1, npt)\n",
    "y = np.linspace(-1.5, 1.5, npt)\n",
    "Xs, Ys = np.meshgrid(x, y)\n",
    "\n",
    "# Empty mask\n",
    "Zs = np.zeros(Xs.shape, dtype=bool)\n",
    "\n",
    "# Run iteration\n",
    "niters = 100\n",
    "C = 1000\n",
    "for i in range(npt):\n",
    "    for j in range(npt):\n",
    "        c = complex(Xs[i,j], Ys[i,j])\n",
    "        z = 0 + 0j\n",
    "        try:\n",
    "            for k in range(niters):\n",
    "                z = z**2 + c\n",
    "            Zs[i,j] = (abs(z) < C)\n",
    "        except OverflowError:\n",
    "            # Overflow means we have definitely diverged\n",
    "            Zs[i,j] = False\n",
    "\n",
    "# Plot\n",
    "import matplotlib.pyplot as plt\n",
    "plt.imshow(Zs, extent=[-2, 1, -1.5, 1.5], cmap='gray')\n",
    "plt.show()"
   ]
  }
 ],
 "metadata": {
  "kernelspec": {
   "display_name": "Python 3",
   "language": "python",
   "name": "python3"
  },
  "language_info": {
   "codemirror_mode": {
    "name": "ipython",
    "version": 3
   },
   "file_extension": ".py",
   "mimetype": "text/x-python",
   "name": "python",
   "nbconvert_exporter": "python",
   "pygments_lexer": "ipython3",
   "version": "3.7.6"
  }
 },
 "nbformat": 4,
 "nbformat_minor": 4
}
