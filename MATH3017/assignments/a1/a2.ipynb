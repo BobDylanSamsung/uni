{
 "cells": [
  {
   "cell_type": "code",
   "execution_count": 22,
   "metadata": {},
   "outputs": [
    {
     "name": "stdout",
     "output_type": "stream",
     "text": [
      "2.3430749027719964\n"
     ]
    }
   ],
   "source": [
    "def stdev(nums: list[float]) -> float:\n",
    "    mean = sum(nums) / len(nums)\n",
    "    variance = sum([(num - mean)**2 for num in nums]) / len(nums)\n",
    "    return variance**(1/2)\n",
    "\n",
    "print(stdev([3,1,4,1,5,9,2,6,5,3]))"
   ]
  },
  {
   "cell_type": "code",
   "execution_count": 34,
   "metadata": {},
   "outputs": [
    {
     "name": "stdout",
     "output_type": "stream",
     "text": [
      "2.3430749027719964\n",
      "2.4698178070456938\n",
      "0.0\n"
     ]
    },
    {
     "ename": "RuntimeError",
     "evalue": "Not enough numbers provided",
     "output_type": "error",
     "traceback": [
      "\u001b[0;31m---------------------------------------------------------------------------\u001b[0m",
      "\u001b[0;31mRuntimeError\u001b[0m                              Traceback (most recent call last)",
      "Cell \u001b[0;32mIn[34], line 13\u001b[0m\n\u001b[1;32m     10\u001b[0m \u001b[39m# print(stdev2([]))\u001b[39;00m\n\u001b[1;32m     11\u001b[0m \u001b[39m# print(stdev2([], True))\u001b[39;00m\n\u001b[1;32m     12\u001b[0m \u001b[39mprint\u001b[39m(stdev2([\u001b[39m3\u001b[39m]))\n\u001b[0;32m---> 13\u001b[0m \u001b[39mprint\u001b[39m(stdev2([\u001b[39m3\u001b[39;49m], \u001b[39mTrue\u001b[39;49;00m))\n",
      "Cell \u001b[0;32mIn[34], line 3\u001b[0m, in \u001b[0;36mstdev2\u001b[0;34m(nums, sample)\u001b[0m\n\u001b[1;32m      1\u001b[0m \u001b[39mdef\u001b[39;00m \u001b[39mstdev2\u001b[39m(nums: \u001b[39mlist\u001b[39m[\u001b[39mfloat\u001b[39m], sample\u001b[39m=\u001b[39m\u001b[39mFalse\u001b[39;00m) \u001b[39m-\u001b[39m\u001b[39m>\u001b[39m \u001b[39mfloat\u001b[39m:\n\u001b[1;32m      2\u001b[0m     \u001b[39mif\u001b[39;00m \u001b[39mlen\u001b[39m(nums) \u001b[39m<\u001b[39m\u001b[39m=\u001b[39m \u001b[39m1\u001b[39m \u001b[39m-\u001b[39m (\u001b[39mnot\u001b[39;00m sample):\n\u001b[0;32m----> 3\u001b[0m         \u001b[39mraise\u001b[39;00m \u001b[39mRuntimeError\u001b[39;00m(\u001b[39m\"\u001b[39m\u001b[39mNot enough numbers provided\u001b[39m\u001b[39m\"\u001b[39m)\n\u001b[1;32m      4\u001b[0m     mean \u001b[39m=\u001b[39m \u001b[39msum\u001b[39m(nums) \u001b[39m/\u001b[39m \u001b[39mlen\u001b[39m(nums)\n\u001b[1;32m      5\u001b[0m     variance \u001b[39m=\u001b[39m \u001b[39msum\u001b[39m([(num \u001b[39m-\u001b[39m mean)\u001b[39m*\u001b[39m\u001b[39m*\u001b[39m\u001b[39m2\u001b[39m \u001b[39mfor\u001b[39;00m num \u001b[39min\u001b[39;00m nums]) \u001b[39m/\u001b[39m (\u001b[39mlen\u001b[39m(nums) \u001b[39m-\u001b[39m \u001b[39m1\u001b[39m \u001b[39m*\u001b[39m sample)\n",
      "\u001b[0;31mRuntimeError\u001b[0m: Not enough numbers provided"
     ]
    }
   ],
   "source": [
    "def stdev2(nums: list[float], sample=False) -> float:\n",
    "    if len(nums) <= 1 - (not sample):\n",
    "        raise RuntimeError(\"Not enough numbers provided\")\n",
    "    mean = sum(nums) / len(nums)\n",
    "    variance = sum([(num - mean)**2 for num in nums]) / (len(nums) - 1 * sample)\n",
    "    return variance**(1/2)\n",
    "\n",
    "print(stdev2([3,1,4,1,5,9,2,6,5,3]))\n",
    "print(stdev2([3,1,4,1,5,9,2,6,5,3], True))\n",
    "print(stdev2([]))\n",
    "print(stdev2([], True))\n",
    "print(stdev2([3]))\n",
    "print(stdev2([3], True))\n"
   ]
  },
  {
   "cell_type": "code",
   "execution_count": 43,
   "metadata": {},
   "outputs": [
    {
     "name": "stdout",
     "output_type": "stream",
     "text": [
      "2\n"
     ]
    }
   ],
   "source": [
    "import math\n",
    "def closest(nums: list[float], val: float):\n",
    "    if len(nums) == 0:\n",
    "        return -1\n",
    "    min = abs(nums[0] - val)\n",
    "    min_index = 0\n",
    "    for i, num in enumerate(nums):\n",
    "        if abs(num - val) < min:\n",
    "            min = num - val\n",
    "            min_index = i\n",
    "    return min_index\n",
    "\n",
    "print(closest([1,1,2,3,5,8,13,21], math.pi))"
   ]
  }
 ],
 "metadata": {
  "kernelspec": {
   "display_name": "venv",
   "language": "python",
   "name": "python3"
  },
  "language_info": {
   "codemirror_mode": {
    "name": "ipython",
    "version": 3
   },
   "file_extension": ".py",
   "mimetype": "text/x-python",
   "name": "python",
   "nbconvert_exporter": "python",
   "pygments_lexer": "ipython3",
   "version": "3.10.9"
  },
  "orig_nbformat": 4,
  "vscode": {
   "interpreter": {
    "hash": "458ecf9fbc0eba51b2969b4d156660e2941513a2769332dfaca844f994b245b0"
   }
  }
 },
 "nbformat": 4,
 "nbformat_minor": 2
}
